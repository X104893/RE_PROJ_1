{
 "cells": [
  {
   "cell_type": "code",
   "execution_count": 13,
   "id": "9259ec92-4983-4035-8d28-da86bba2def2",
   "metadata": {},
   "outputs": [],
   "source": [
    "import pandas as pd\n",
    "import numpy as np\n",
    "\n"
   ]
  },
  {
   "cell_type": "code",
   "execution_count": 14,
   "id": "156f5146-1860-4c1f-918c-6c2282aa2165",
   "metadata": {},
   "outputs": [
    {
     "name": "stdin",
     "output_type": "stream",
     "text": [
      " Listing Price: 650000\n"
     ]
    }
   ],
   "source": [
    "listing_price = float(input(' Listing Price:'))"
   ]
  },
  {
   "cell_type": "code",
   "execution_count": 15,
   "id": "32b44f1c-a77a-4d0b-a889-9cb8d422aeaf",
   "metadata": {},
   "outputs": [
    {
     "name": "stdin",
     "output_type": "stream",
     "text": [
      "Down Payment Percent of Listing Price: 20\n"
     ]
    }
   ],
   "source": [
    "Down_Payment = float(input('Down Payment Percent of Listing Price:'))"
   ]
  },
  {
   "cell_type": "code",
   "execution_count": 16,
   "id": "db4cbfd1-e29b-4db3-9fd1-153b915e7ed7",
   "metadata": {},
   "outputs": [],
   "source": [
    "Loan = listing_price*(1-Down_Payment/100)"
   ]
  },
  {
   "cell_type": "code",
   "execution_count": 17,
   "id": "8302b3ee-435d-40b8-8d18-7e11d1c56a8b",
   "metadata": {},
   "outputs": [
    {
     "name": "stdin",
     "output_type": "stream",
     "text": [
      "type of mortgage 30\n"
     ]
    }
   ],
   "source": [
    "mortgage_type = float(input('type of mortgage'))"
   ]
  },
  {
   "cell_type": "code",
   "execution_count": 18,
   "id": "499226dd-3b05-459e-b2de-1660ca5b9aeb",
   "metadata": {},
   "outputs": [],
   "source": [
    "mortgage_term = int(12*mortgage_type)"
   ]
  },
  {
   "cell_type": "code",
   "execution_count": 19,
   "id": "f4c87653-5949-4ce6-815d-0cddd9ce4301",
   "metadata": {},
   "outputs": [
    {
     "name": "stdin",
     "output_type": "stream",
     "text": [
      "interest rate percent 4\n"
     ]
    }
   ],
   "source": [
    "interest_rate = float(input('interest rate percent'))"
   ]
  },
  {
   "cell_type": "code",
   "execution_count": 20,
   "id": "41da33d7-8f96-405c-a0c0-500d564aa0f5",
   "metadata": {},
   "outputs": [],
   "source": [
    "A = 1+(interest_rate)/(12*100)"
   ]
  },
  {
   "cell_type": "code",
   "execution_count": 21,
   "id": "c3681495-9783-44f8-83d0-bb4648e0c9da",
   "metadata": {},
   "outputs": [],
   "source": [
    "B = Loan*(A**mortgage_term)*(1-A)/(1-A**mortgage_term)"
   ]
  },
  {
   "cell_type": "code",
   "execution_count": 22,
   "id": "dcc98435-5b99-4210-9819-1143cca43fad",
   "metadata": {},
   "outputs": [],
   "source": [
    "monthly_interest = []\n",
    "monthly_balance = []\n",
    "\n",
    "for i in range(1,mortgage_term+1):\n",
    "    interest = Loan*(A-1)\n",
    "    Loan = Loan - (A-interest)\n",
    "    monthly_interest = np.append(monthly_interest,interest)\n",
    "    monthly_balance = np.append(monthly_balance, Loan)\n"
   ]
  },
  {
   "cell_type": "code",
   "execution_count": 24,
   "id": "5b8fbe2a-a79d-4ffc-81ee-1547ea718357",
   "metadata": {},
   "outputs": [
    {
     "name": "stdout",
     "output_type": "stream",
     "text": [
      "Listing Price is: = $650000.0\n",
      "Down Payment is: = 20.0 %\n",
      "Loan is: = 520000.0 $\n",
      "Interest Rate is: = 4.0 %\n",
      "monthly payment: = $2482.56\n",
      "total interest paid is: = $1202683.8\n"
     ]
    }
   ],
   "source": [
    "print(\"Listing Price is: = \" + str('$')+ str(listing_price))\n",
    "print(\"Down Payment is: = \" + str(Down_Payment)+str(' %'))\n",
    "print(\"Loan is: = \" + str(listing_price*(1-Down_Payment/100))+str(' $'))\n",
    "print(\"Interest Rate is: = \" + str(interest_rate)+str(' %'))\n",
    "print(\"monthly payment: = \" + str('$')+str(np.round(B,2)))\n",
    "print(\"total interest paid is: = \" + str('$') + str(np.round(np.sum(monthly_interest),2)))\n"
   ]
  },
  {
   "cell_type": "code",
   "execution_count": null,
   "id": "7232a343-a423-4fab-8209-c2ad2e2bba6b",
   "metadata": {},
   "outputs": [],
   "source": []
  }
 ],
 "metadata": {
  "kernelspec": {
   "display_name": "python (dev)",
   "language": "python",
   "name": "dev"
  },
  "language_info": {
   "codemirror_mode": {
    "name": "ipython",
    "version": 3
   },
   "file_extension": ".py",
   "mimetype": "text/x-python",
   "name": "python",
   "nbconvert_exporter": "python",
   "pygments_lexer": "ipython3",
   "version": "3.7.11"
  }
 },
 "nbformat": 4,
 "nbformat_minor": 5
}
